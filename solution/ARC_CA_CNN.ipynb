{
  "cells": [
    {
      "cell_type": "code",
      "source": [
        "from google.colab import drive\n",
        "drive.mount('/content/drive')\n",
        "\n",
        "# !unzip data/inputs.zip\n",
        "# !rm -r inputs/frame/10"
      ],
      "metadata": {
        "colab": {
          "base_uri": "https://localhost:8080/"
        },
        "id": "4zHYRakrsXYu",
        "outputId": "115967dd-358c-4999-c9a0-d0d1f975c309"
      },
      "execution_count": null,
      "outputs": [
        {
          "output_type": "stream",
          "name": "stdout",
          "text": [
            "Drive already mounted at /content/drive; to attempt to forcibly remount, call drive.mount(\"/content/drive\", force_remount=True).\n"
          ]
        }
      ]
    },
    {
      "cell_type": "markdown",
      "metadata": {
        "id": "nSVv9IRAlz13"
      },
      "source": [
        "# Cellular automata (not really) CNN RNN with Adaptive Computation Time (ACT)\n",
        "### What I did:\n",
        "* copied [this notebook](https://www.kaggle.com/teddykoker/training-cellular-automata-part-ii-learning-tasks)\n",
        "* changed the model\n",
        "\n",
        "The new model uses ACT concept from [this paper](https://arxiv.org/pdf/1603.08983.pdf). Also [this paper](https://arxiv.org/pdf/1807.03819.pdf) was useful.  \n",
        "ACT replaces the original recurrency scheme.  \n",
        "\n",
        "### Results:\n",
        "* solves 26 train tasks instead of 20\n",
        "* twice faster\n",
        "* gifs aren't as beautiful as they were before\n",
        "* actually this is not cellular automata anymore\n",
        "\n",
        "---"
      ]
    },
    {
      "cell_type": "code",
      "source": [
        "# !git clone https://github.com/Krzysiulek/ARC-Generator\n",
        "# !python ARC-Generator/run.py"
      ],
      "metadata": {
        "id": "GhhkJ_e5e5Ke"
      },
      "execution_count": null,
      "outputs": []
    },
    {
      "cell_type": "markdown",
      "metadata": {
        "id": "mQ-Dp5e1lz18"
      },
      "source": [
        "In my [previous notebook](https://www.kaggle.com/teddykoker/training-cellular-automata-part-i-game-of-life) we explored how we could use a CNN to create a cellular automata (CA) by recurrently passing the state of the grid through itself. Now we'll solve one of the tasks [arseny-n](https://www.kaggle.com/arsenynerinovsky/cellular-automata-as-a-language-for-reasoning) solved with a hard coded CA by learning the CA instead!"
      ]
    },
    {
      "cell_type": "code",
      "execution_count": null,
      "metadata": {
        "_cell_guid": "b1076dfc-b9ad-4769-8c92-a6c4dae69d19",
        "_kg_hide-input": true,
        "_kg_hide-output": true,
        "_uuid": "8f2839f25d086af736a60e9eeb907d3b93b6e0e5",
        "id": "0bmIfZMLlz19"
      },
      "outputs": [],
      "source": [
        "import os\n",
        "import json\n",
        "import numpy as np\n",
        "from pathlib import Path\n",
        "\n",
        "import torch\n",
        "import torch.nn as nn\n",
        "import torch.nn.functional as F\n",
        "\n",
        "from tqdm import tqdm\n",
        "import matplotlib.pyplot as plt\n",
        "from matplotlib import colors\n",
        "from matplotlib import animation, rc\n",
        "from IPython.display import HTML\n",
        "\n",
        "rc('animation', html='jshtml')\n",
        "device = torch.device('cuda:0' if torch.cuda.is_available() else 'cpu')"
      ]
    },
    {
      "cell_type": "code",
      "execution_count": null,
      "metadata": {
        "_kg_hide-input": true,
        "_kg_hide-output": true,
        "id": "YulEQ_cWlz1_"
      },
      "outputs": [],
      "source": [
        "cmap = colors.ListedColormap(\n",
        "        ['#000000', '#0074D9','#FF4136','#2ECC40','#FFDC00',\n",
        "         '#AAAAAA', '#F012BE', '#FF851B', '#7FDBFF', '#870C25'])\n",
        "norm = colors.Normalize(vmin=0, vmax=9)\n",
        "    \n",
        "def plot_pictures(pictures, labels):\n",
        "    fig, axs = plt.subplots(1, len(pictures), figsize=(2*len(pictures),32))\n",
        "    for i, (pict, label) in enumerate(zip(pictures, labels)):\n",
        "        axs[i].imshow(np.array(pict), cmap=cmap, norm=norm)\n",
        "        axs[i].set_title(label)\n",
        "    plt.show()\n",
        "    \n",
        "def plot_sample(sample, predict=None):\n",
        "    if predict is None:\n",
        "        plot_pictures([sample['input'], sample['output']], ['Input', 'Output'])\n",
        "    else:\n",
        "        plot_pictures([sample['input'], sample['output'], predict], ['Input', 'Output', 'Predict'])\n",
        "        \n",
        "def inp2img(inp):\n",
        "    inp = np.array(inp)\n",
        "    img = np.full((10, inp.shape[0], inp.shape[1]), 0, dtype=np.uint8)\n",
        "    for i in range(10):\n",
        "        img[i] = (inp==i)\n",
        "    return img\n",
        "\n",
        "def input_output_shape_is_same(task):\n",
        "    return all([np.array(el['input']).shape == np.array(el['output']).shape for el in task['train']])\n",
        "\n",
        "\n",
        "def calk_score(task_test, predict):\n",
        "    return [int(np.equal(sample['output'], pred).all()) for sample, pred in zip(task_test, predict)]"
      ]
    },
    {
      "cell_type": "markdown",
      "metadata": {
        "id": "bTpTHA7Jlz2A"
      },
      "source": [
        "## First Task: db3e9e38\n",
        "\n",
        "The task we'll first try is relitively straight foward; given a central orange \"pillar\", form stairs of alternating blue and orange in each direction. `arseny-n` showed that this could be solved with a CA consisting of three rules."
      ]
    },
    {
      "cell_type": "markdown",
      "metadata": {
        "id": "CtJ3-dTQlz2C"
      },
      "source": [
        "## The Model\n",
        "\n",
        "The model consists of a single 3x3 convolutional layer, followed by a 1x1 convolutional layer, just like my last notebook. Here `num_states` represents how many values a single cell could have; in this case 10, one for each color. Down the road, we may want to add a hidden state, concatinating it to the input, then removing it from the output.\n",
        "\n",
        "The foward pass of the model will repeatedly pass the grid state through the CA transition for `steps` number of times."
      ]
    },
    {
      "cell_type": "code",
      "execution_count": null,
      "metadata": {
        "id": "l3grkly9lz2D"
      },
      "outputs": [],
      "source": [
        "HIDDEN_SIZE = 128\n",
        "MAX_STEPS = 10\n",
        "THRESHOLD = 0.99\n",
        "REMAINDERS_PEN = 0.0\n",
        "\n",
        "# Fix random seeds for reproducibility\n",
        "torch.manual_seed(42)\n",
        "np.random.seed(42)\n",
        "\n",
        "class CAModel(nn.Module):\n",
        "    def __init__(self, num_states):\n",
        "        super(CAModel, self).__init__()\n",
        "        self.embedding = nn.Sequential(\n",
        "            nn.Conv2d(num_states, HIDDEN_SIZE, kernel_size=1),\n",
        "            nn.InstanceNorm2d(HIDDEN_SIZE),\n",
        "        )\n",
        "        self.transition = nn.Sequential(\n",
        "            nn.InstanceNorm2d(HIDDEN_SIZE),\n",
        "            nn.Conv2d(HIDDEN_SIZE, HIDDEN_SIZE, kernel_size=3, padding=1),\n",
        "            nn.ReLU(),\n",
        "            nn.Conv2d(HIDDEN_SIZE, HIDDEN_SIZE, kernel_size=1, padding=0),\n",
        "        )\n",
        "        self.projection_out = nn.Conv2d(HIDDEN_SIZE, num_states, kernel_size=1)\n",
        "        self.projection_halt = nn.Conv2d(HIDDEN_SIZE, 1, kernel_size=1)\n",
        "        \n",
        "    def forward(self, x, max_steps=None):\n",
        "        x = self.embedding(x)\n",
        "        # Initialize values\n",
        "        halting_probability = torch.zeros([1, 1, x.shape[2], x.shape[3]], device=x.device)\n",
        "        remainders = torch.zeros([1, 1, x.shape[2], x.shape[3]], device=x.device)\n",
        "        n_updates = torch.zeros([1, 1, x.shape[2], x.shape[3]], device=x.device)\n",
        "        # Cycle\n",
        "        max_steps = max_steps or MAX_STEPS\n",
        "        for i in range(max_steps):\n",
        "            p = torch.sigmoid(self.projection_halt(x) - 1)\n",
        "            # Formulas from https://arxiv.org/pdf/1807.03819.pdf APPENDIX C\n",
        "            still_running = (halting_probability <= THRESHOLD).to(torch.float)\n",
        "            new_halted = ((halting_probability + p * still_running) > THRESHOLD).to(torch.float) * still_running\n",
        "            still_running = ((halting_probability + p * still_running) <= THRESHOLD).to(torch.float) * still_running\n",
        "            halting_probability += p * still_running\n",
        "            remainders += new_halted * (1 - halting_probability)\n",
        "            halting_probability += new_halted * remainders\n",
        "            n_updates += still_running + new_halted\n",
        "            update_weights = p * still_running + new_halted * remainders\n",
        "            # Apply transformation to the state\n",
        "            transformed_state = self.transition(x)\n",
        "            # Interpolate transformed and previous states for non-halted inputs\n",
        "            x = transformed_state * update_weights + x * (1 - update_weights)\n",
        "            # Halt\n",
        "            if still_running.sum() == 0:\n",
        "                break\n",
        "        \n",
        "        x = self.projection_out(x)\n",
        "        self._remainders = remainders\n",
        "        self._n_updates = n_updates\n",
        "        return x"
      ]
    },
    {
      "cell_type": "markdown",
      "metadata": {
        "id": "6CIAFKWhlz2E"
      },
      "source": [
        "## Training\n",
        "\n",
        "This \"recurrent CNN\" can be quite to difficult to train. After trying a few ideas, this seemed to be the best approach that I encountered:\n",
        "\n",
        "* For every value $n$ = $1, ..., N$:\n",
        "    1. Train the model with $n$ `steps` to produce the output from input\n",
        "    2. Train the model with 1 `steps` to produce output from output\n",
        "        * This enforces that the CA stabilizes after reaching a solution\n",
        "        \n",
        "In this way the model will try to get as close to a solution as possible in 1 step, then try to get closer in the next step, and so on until $N$ steps. For now I will use $N = 10$ = `max_steps`. I will also set the learning rate to decay with each additional step: $LR = 0.1 / (n * 2) $"
      ]
    },
    {
      "cell_type": "code",
      "execution_count": null,
      "metadata": {
        "id": "xEU4Xnt4lz2F"
      },
      "outputs": [],
      "source": [
        "def solve_task(task, max_steps=10):\n",
        "    model = CAModel(10).to(device)\n",
        "    num_epochs = 100\n",
        "    criterion = nn.CrossEntropyLoss()\n",
        "    losses = np.zeros(num_epochs)\n",
        "    n_updates = np.zeros(num_epochs)\n",
        "    \n",
        "    optimizer = torch.optim.Adam(model.parameters(), lr=0.001)\n",
        "\n",
        "    for e in range(num_epochs):\n",
        "        optimizer.zero_grad()\n",
        "        loss = 0.0\n",
        "        \n",
        "        for sample in task:\n",
        "            # predict output from input\n",
        "            x = torch.from_numpy(inp2img(sample[\"input\"])).unsqueeze(0).float().to(device)\n",
        "            y = torch.tensor(sample[\"output\"]).long().unsqueeze(0).to(device)\n",
        "            y_pred = model(x)\n",
        "            loss += criterion(y_pred, y) + (model._remainders * REMAINDERS_PEN).mean(0).sum()\n",
        "            n_updates[e] += model._n_updates.detach().cpu().mean().numpy() / len(task)\n",
        "        \n",
        "        loss.backward()\n",
        "        optimizer.step()\n",
        "        losses[e] = loss.item()\n",
        "    return model, losses, n_updates\n",
        "\n",
        "@torch.no_grad()\n",
        "def predict(model, task):\n",
        "    predictions = []\n",
        "    for sample in task:\n",
        "        x = torch.from_numpy(inp2img(sample[\"input\"])).unsqueeze(0).float().to(device)\n",
        "        pred = model(x).argmax(1).squeeze().cpu().numpy()\n",
        "        predictions.append(pred)\n",
        "    return predictions\n",
        "    \n",
        "# task = train_tasks[\"db3e9e38\"][\"train\"]\n",
        "# model, losses, n_updates = ÷solve_task(task)"
      ]
    },
    {
      "cell_type": "markdown",
      "metadata": {
        "id": "xiuRdX14lz2G"
      },
      "source": [
        "$n$ is incremented every 100 epochs, so we can see that it reaches a good solution after 3 steps (epoch 300)."
      ]
    },
    {
      "cell_type": "markdown",
      "metadata": {
        "id": "bVBUyK0wlz2H"
      },
      "source": [
        "Now lets see if it at least correctly outputs the training set. To be save we'll give the model $n=100$ steps:"
      ]
    },
    {
      "cell_type": "markdown",
      "metadata": {
        "id": "yiElUci1lz2I"
      },
      "source": [
        "It works! Now lets see if it generalized to the test question:"
      ]
    },
    {
      "cell_type": "markdown",
      "metadata": {
        "id": "N9AWDwBnlz2J"
      },
      "source": [
        "Fantastic! The coolest part now is that we can animate our solution to see the CA in action:"
      ]
    },
    {
      "cell_type": "markdown",
      "metadata": {
        "id": "apmewUmelz2K"
      },
      "source": [
        "We can see that the CA quickly gets to a solution and then stabilizes."
      ]
    },
    {
      "cell_type": "markdown",
      "metadata": {
        "id": "5bzVmDTVlz2K"
      },
      "source": [
        "## More Tasks\n",
        "\n",
        "Now that we know we can train a CA for one task, will it work on others?"
      ]
    },
    {
      "cell_type": "code",
      "execution_count": null,
      "metadata": {
        "id": "H0UaeLaYlz2K"
      },
      "outputs": [],
      "source": [
        "def evaluate(tasks, is_test=False):\n",
        "    result = []\n",
        "    predictions = {}\n",
        "    for idx, task in tqdm(tasks.items()):\n",
        "        if input_output_shape_is_same(task):\n",
        "            model, _, _ = solve_task(task[\"train\"])\n",
        "            pred = predict(model, task[\"test\"])\n",
        "            if not is_test:\n",
        "                score = calk_score(task[\"test\"], pred)\n",
        "            else:\n",
        "                score = [0] * len(task[\"test\"])\n",
        "        else:\n",
        "            pred = [el[\"input\"] for el in task[\"test\"]]\n",
        "            score = [0] * len(task[\"test\"])\n",
        "\n",
        "        predictions[idx] = pred\n",
        "        result.append(score)\n",
        "    return result, predictions"
      ]
    },
    {
      "cell_type": "markdown",
      "metadata": {
        "id": "HRyU9Arrlz2M"
      },
      "source": [
        "We solve many of the tasks within the training set using our Neural Cellular Automata model! I did test on the validation set as well, and it correctly solved 17 of the tasks. There are a number of ways this model could be improved. Please let me know if you'd be interested in collaboration!\n",
        "\n",
        "## Solved Tasks"
      ]
    },
    {
      "cell_type": "code",
      "source": [
        "import os\n",
        "import pandas as pd\n",
        "\n",
        "def load_data(path):\n",
        "    return { task.stem: json.load(task.open()) for task in path.iterdir() if str(task).endswith(\".json\")}\n",
        "\n",
        "root = \"drive/MyDrive/GSN2\"\n",
        "\n",
        "scores_df = pd.DataFrame()\n",
        "for task_type in os.listdir(os.path.join(root)):\n",
        "    for task_size in os.listdir(os.path.join(root,task_type)):\n",
        "      print(task_size)\n",
        "      tasks_dir = Path(root, task_type, task_size)\n",
        "      data = load_data(tasks_dir)\n",
        "      data_results, data_predictions = evaluate(data)\n",
        "      data_solved = [any(score) for score in data_results]\n",
        "      total = sum([len(score) for score in data_results])\n",
        "      solved = sum(data_solved)\n",
        "      scores_df.at[task_type, task_size] = f\"{solved}/{total}\"\n",
        "      scores_df.to_csv(\"drive/MyDrive/final.csv\")"
      ],
      "metadata": {
        "colab": {
          "base_uri": "https://localhost:8080/"
        },
        "id": "k7qKRQuosP5f",
        "outputId": "03b50794-4130-444b-d848-80b6f7715db5"
      },
      "execution_count": null,
      "outputs": [
        {
          "output_type": "stream",
          "name": "stdout",
          "text": [
            "5\n"
          ]
        },
        {
          "output_type": "stream",
          "name": "stderr",
          "text": [
            "100%|██████████| 27/27 [03:11<00:00,  7.08s/it]\n"
          ]
        },
        {
          "output_type": "stream",
          "name": "stdout",
          "text": [
            "10\n"
          ]
        },
        {
          "output_type": "stream",
          "name": "stderr",
          "text": [
            "100%|██████████| 13/13 [03:20<00:00, 15.46s/it]\n"
          ]
        },
        {
          "output_type": "stream",
          "name": "stdout",
          "text": [
            "15\n"
          ]
        },
        {
          "output_type": "stream",
          "name": "stderr",
          "text": [
            "100%|██████████| 9/9 [03:42<00:00, 24.67s/it]\n"
          ]
        },
        {
          "output_type": "stream",
          "name": "stdout",
          "text": [
            "20\n"
          ]
        },
        {
          "output_type": "stream",
          "name": "stderr",
          "text": [
            "100%|██████████| 6/6 [03:09<00:00, 31.52s/it]\n"
          ]
        },
        {
          "output_type": "stream",
          "name": "stdout",
          "text": [
            "30\n"
          ]
        },
        {
          "output_type": "stream",
          "name": "stderr",
          "text": [
            "100%|██████████| 4/4 [03:13<00:00, 48.43s/it]\n"
          ]
        }
      ]
    },
    {
      "cell_type": "code",
      "execution_count": null,
      "metadata": {
        "id": "6_t4N7bLlz2M",
        "outputId": "a7526814-e0b3-486d-ce83-985e17c7a3cb",
        "colab": {
          "base_uri": "https://localhost:8080/",
          "height": 1000
        }
      },
      "outputs": [
        {
          "output_type": "stream",
          "name": "stderr",
          "text": [
            "\r0it [00:00, ?it/s]"
          ]
        },
        {
          "output_type": "display_data",
          "data": {
            "image/png": "[encoded data removed]",
            "text/plain": [
              "<Figure size 288x2304 with 2 Axes>"
            ]
          },
          "metadata": {
            "needs_background": "light"
          }
        },
        {
          "output_type": "display_data",
          "data": {
            "image/png": "[encoded data removed]",
            "text/plain": [
              "<Figure size 288x2304 with 2 Axes>"
            ]
          },
          "metadata": {
            "needs_background": "light"
          }
        },
        {
          "output_type": "display_data",
          "data": {
            "image/png": "[encoded data removed]",
            "text/plain": [
              "<Figure size 288x2304 with 2 Axes>"
            ]
          },
          "metadata": {
            "needs_background": "light"
          }
        },
        {
          "output_type": "display_data",
          "data": {
            "image/png": "[encoded data removed]",
            "text/plain": [
              "<Figure size 288x2304 with 2 Axes>"
            ]
          },
          "metadata": {
            "needs_background": "light"
          }
        },
        {
          "output_type": "display_data",
          "data": {
            "image/png": "[encoded data removed]",
            "text/plain": [
              "<Figure size 288x2304 with 2 Axes>"
            ]
          },
          "metadata": {
            "needs_background": "light"
          }
        },
        {
          "output_type": "display_data",
          "data": {
            "image/png": "[encoded data removed]",
            "text/plain": [
              "<Figure size 288x2304 with 2 Axes>"
            ]
          },
          "metadata": {
            "needs_background": "light"
          }
        },
        {
          "output_type": "display_data",
          "data": {
            "image/png": "[encoded data removed]",
            "text/plain": [
              "<Figure size 288x2304 with 2 Axes>"
            ]
          },
          "metadata": {
            "needs_background": "light"
          }
        },
        {
          "output_type": "display_data",
          "data": {
            "image/png": "[encoded data removed]",
            "text/plain": [
              "<Figure size 288x2304 with 2 Axes>"
            ]
          },
          "metadata": {
            "needs_background": "light"
          }
        },
        {
          "output_type": "display_data",
          "data": {
            "image/png": "[encoded data removed]",
            "text/plain": [
              "<Figure size 288x2304 with 2 Axes>"
            ]
          },
          "metadata": {
            "needs_background": "light"
          }
        },
        {
          "output_type": "display_data",
          "data": {
            "image/png": "[encoded data removed]",
            "text/plain": [
              "<Figure size 288x2304 with 2 Axes>"
            ]
          },
          "metadata": {
            "needs_background": "light"
          }
        },
        {
          "output_type": "display_data",
          "data": {
            "image/png": "[encoded data removed]",
            "text/plain": [
              "<Figure size 288x2304 with 2 Axes>"
            ]
          },
          "metadata": {
            "needs_background": "light"
          }
        },
        {
          "output_type": "display_data",
          "data": {
            "image/png": "[encoded data removed]",
            "text/plain": [
              "<Figure size 288x2304 with 2 Axes>"
            ]
          },
          "metadata": {
            "needs_background": "light"
          }
        },
        {
          "output_type": "display_data",
          "data": {
            "image/png": "[encoded data removed]",
            "text/plain": [
              "<Figure size 288x2304 with 2 Axes>"
            ]
          },
          "metadata": {
            "needs_background": "light"
          }
        },
        {
          "output_type": "display_data",
          "data": {
            "image/png": "[encoded data removed]",
            "text/plain": [
              "<Figure size 288x2304 with 2 Axes>"
            ]
          },
          "metadata": {
            "needs_background": "light"
          }
        },
        {
          "output_type": "display_data",
          "data": {
            "image/png": "[encoded data removed]",
            "text/plain": [
              "<Figure size 288x2304 with 2 Axes>"
            ]
          },
          "metadata": {
            "needs_background": "light"
          }
        },
        {
          "output_type": "display_data",
          "data": {
            "image/png": "[encoded data removed]",
            "text/plain": [
              "<Figure size 288x2304 with 2 Axes>"
            ]
          },
          "metadata": {
            "needs_background": "light"
          }
        },
        {
          "output_type": "display_data",
          "data": {
            "image/png": "[encoded data removed]",
            "text/plain": [
              "<Figure size 288x2304 with 2 Axes>"
            ]
          },
          "metadata": {
            "needs_background": "light"
          }
        },
        {
          "output_type": "display_data",
          "data": {
            "image/png": "[encoded data removed]",
            "text/plain": [
              "<Figure size 288x2304 with 2 Axes>"
            ]
          },
          "metadata": {
            "needs_background": "light"
          }
        },
        {
          "output_type": "display_data",
          "data": {
            "image/png": "[encoded data removed]",
            "text/plain": [
              "<Figure size 288x2304 with 2 Axes>"
            ]
          },
          "metadata": {
            "needs_background": "light"
          }
        },
        {
          "output_type": "display_data",
          "data": {
            "image/png": "[encoded data removed]",
            "text/plain": [
              "<Figure size 288x2304 with 2 Axes>"
            ]
          },
          "metadata": {
            "needs_background": "light"
          }
        },
        {
          "output_type": "display_data",
          "data": {
            "image/png": "[encoded data removed]",
            "text/plain": [
              "<Figure size 288x2304 with 2 Axes>"
            ]
          },
          "metadata": {
            "needs_background": "light"
          }
        },
        {
          "output_type": "display_data",
          "data": {
            "image/png": "[encoded data removed]",
            "text/plain": [
              "<Figure size 288x2304 with 2 Axes>"
            ]
          },
          "metadata": {
            "needs_background": "light"
          }
        },
        {
          "output_type": "display_data",
          "data": {
            "image/png": "[encoded data removed]",
            "text/plain": [
              "<Figure size 288x2304 with 2 Axes>"
            ]
          },
          "metadata": {
            "needs_background": "light"
          }
        },
        {
          "output_type": "display_data",
          "data": {
            "image/png": "[encoded data removed]",
            "text/plain": [
              "<Figure size 288x2304 with 2 Axes>"
            ]
          },
          "metadata": {
            "needs_background": "light"
          }
        },
        {
          "output_type": "display_data",
          "data": {
            "image/png": "[encoded data removed]",
            "text/plain": [
              "<Figure size 288x2304 with 2 Axes>"
            ]
          },
          "metadata": {
            "needs_background": "light"
          }
        },
        {
          "output_type": "display_data",
          "data": {
            "image/png": "[encoded data removed]",
            "text/plain": [
              "<Figure size 288x2304 with 2 Axes>"
            ]
          },
          "metadata": {
            "needs_background": "light"
          }
        },
        {
          "output_type": "display_data",
          "data": {
            "image/png": "[encoded data removed]",
            "text/plain": [
              "<Figure size 288x2304 with 2 Axes>"
            ]
          },
          "metadata": {
            "needs_background": "light"
          }
        },
        {
          "output_type": "display_data",
          "data": {
            "image/png": "[encoded data removed]",
            "text/plain": [
              "<Figure size 288x2304 with 2 Axes>"
            ]
          },
          "metadata": {
            "needs_background": "light"
          }
        },
        {
          "output_type": "display_data",
          "data": {
            "image/png": "[encoded data removed]",
            "text/plain": [
              "<Figure size 288x2304 with 2 Axes>"
            ]
          },
          "metadata": {
            "needs_background": "light"
          }
        },
        {
          "output_type": "display_data",
          "data": {
            "image/png": "[encoded data removed]",
            "text/plain": [
              "<Figure size 432x2304 with 3 Axes>"
            ]
          },
          "metadata": {
            "needs_background": "light"
          }
        },
        {
          "output_type": "stream",
          "name": "stderr",
          "text": [
            "\r3it [00:05,  1.91s/it]"
          ]
        },
        {
          "output_type": "display_data",
          "data": {
            "image/png": "[encoded data removed]",
            "text/plain": [
              "<Figure size 288x2304 with 2 Axes>"
            ]
          },
          "metadata": {
            "needs_background": "light"
          }
        },
        {
          "output_type": "display_data",
          "data": {
            "image/png": "[encoded data removed]",
            "text/plain": [
              "<Figure size 288x2304 with 2 Axes>"
            ]
          },
          "metadata": {
            "needs_background": "light"
          }
        },
        {
          "output_type": "display_data",
          "data": {
            "image/png": "[encoded data removed]",
            "text/plain": [
              "<Figure size 288x2304 with 2 Axes>"
            ]
          },
          "metadata": {
            "needs_background": "light"
          }
        },
        {
          "output_type": "display_data",
          "data": {
            "image/png": "[encoded data removed]",
            "text/plain": [
              "<Figure size 288x2304 with 2 Axes>"
            ]
          },
          "metadata": {
            "needs_background": "light"
          }
        },
        {
          "output_type": "display_data",
          "data": {
            "image/png": "[encoded data removed]",
            "text/plain": [
              "<Figure size 288x2304 with 2 Axes>"
            ]
          },
          "metadata": {
            "needs_background": "light"
          }
        },
        {
          "output_type": "display_data",
          "data": {
            "image/png": "[encoded data removed]",
            "text/plain": [
              "<Figure size 288x2304 with 2 Axes>"
            ]
          },
          "metadata": {
            "needs_background": "light"
          }
        },
        {
          "output_type": "display_data",
          "data": {
            "image/png": "[encoded data removed]",
            "text/plain": [
              "<Figure size 288x2304 with 2 Axes>"
            ]
          },
          "metadata": {
            "needs_background": "light"
          }
        },
        {
          "output_type": "display_data",
          "data": {
            "image/png": "[encoded data removed]",
            "text/plain": [
              "<Figure size 288x2304 with 2 Axes>"
            ]
          },
          "metadata": {
            "needs_background": "light"
          }
        },
        {
          "output_type": "display_data",
          "data": {
            "image/png": "[encoded data removed]",
            "text/plain": [
              "<Figure size 288x2304 with 2 Axes>"
            ]
          },
          "metadata": {
            "needs_background": "light"
          }
        },
        {
          "output_type": "display_data",
          "data": {
            "image/png": "[encoded data removed]",
            "text/plain": [
              "<Figure size 288x2304 with 2 Axes>"
            ]
          },
          "metadata": {
            "needs_background": "light"
          }
        },
        {
          "output_type": "display_data",
          "data": {
            "image/png": "[encoded data removed]",
            "text/plain": [
              "<Figure size 288x2304 with 2 Axes>"
            ]
          },
          "metadata": {
            "needs_background": "light"
          }
        },
        {
          "output_type": "display_data",
          "data": {
            "image/png": "[encoded data removed]",
            "text/plain": [
              "<Figure size 288x2304 with 2 Axes>"
            ]
          },
          "metadata": {
            "needs_background": "light"
          }
        },
        {
          "output_type": "display_data",
          "data": {
            "image/png": "[encoded data removed]",
            "text/plain": [
              "<Figure size 288x2304 with 2 Axes>"
            ]
          },
          "metadata": {
            "needs_background": "light"
          }
        },
        {
          "output_type": "display_data",
          "data": {
            "image/png": "[encoded data removed]",
            "text/plain": [
              "<Figure size 288x2304 with 2 Axes>"
            ]
          },
          "metadata": {
            "needs_background": "light"
          }
        },
        {
          "output_type": "display_data",
          "data": {
            "image/png": "[encoded data removed]",
            "text/plain": [
              "<Figure size 288x2304 with 2 Axes>"
            ]
          },
          "metadata": {
            "needs_background": "light"
          }
        },
        {
          "output_type": "display_data",
          "data": {
            "image/png": "[encoded data removed]",
            "text/plain": [
              "<Figure size 288x2304 with 2 Axes>"
            ]
          },
          "metadata": {
            "needs_background": "light"
          }
        },
        {
          "output_type": "display_data",
          "data": {
            "image/png": "[encoded data removed]",
            "text/plain": [
              "<Figure size 288x2304 with 2 Axes>"
            ]
          },
          "metadata": {
            "needs_background": "light"
          }
        },
        {
          "output_type": "display_data",
          "data": {
            "image/png": "[encoded data removed]",
            "text/plain": [
              "<Figure size 288x2304 with 2 Axes>"
            ]
          },
          "metadata": {
            "needs_background": "light"
          }
        },
        {
          "output_type": "display_data",
          "data": {
            "image/png": "[encoded data removed]",
            "text/plain": [
              "<Figure size 288x2304 with 2 Axes>"
            ]
          },
          "metadata": {
            "needs_background": "light"
          }
        },
        {
          "output_type": "display_data",
          "data": {
            "image/png": "[encoded data removed]",
            "text/plain": [
              "<Figure size 288x2304 with 2 Axes>"
            ]
          },
          "metadata": {
            "needs_background": "light"
          }
        },
        {
          "output_type": "display_data",
          "data": {
            "image/png": "[encoded data removed]",
            "text/plain": [
              "<Figure size 288x2304 with 2 Axes>"
            ]
          },
          "metadata": {
            "needs_background": "light"
          }
        },
        {
          "output_type": "display_data",
          "data": {
            "image/png": "[encoded data removed]",
            "text/plain": [
              "<Figure size 288x2304 with 2 Axes>"
            ]
          },
          "metadata": {
            "needs_background": "light"
          }
        },
        {
          "output_type": "display_data",
          "data": {
            "image/png": "[encoded data removed]",
            "text/plain": [
              "<Figure size 288x2304 with 2 Axes>"
            ]
          },
          "metadata": {
            "needs_background": "light"
          }
        },
        {
          "output_type": "display_data",
          "data": {
            "image/png": "[encoded data removed]",
            "text/plain": [
              "<Figure size 288x2304 with 2 Axes>"
            ]
          },
          "metadata": {
            "needs_background": "light"
          }
        },
        {
          "output_type": "display_data",
          "data": {
            "image/png": "[encoded data removed]",
            "text/plain": [
              "<Figure size 288x2304 with 2 Axes>"
            ]
          },
          "metadata": {
            "needs_background": "light"
          }
        },
        {
          "output_type": "display_data",
          "data": {
            "image/png": "[encoded data removed]",
            "text/plain": [
              "<Figure size 288x2304 with 2 Axes>"
            ]
          },
          "metadata": {
            "needs_background": "light"
          }
        },
        {
          "output_type": "display_data",
          "data": {
            "image/png": "[encoded data removed]",
            "text/plain": [
              "<Figure size 288x2304 with 2 Axes>"
            ]
          },
          "metadata": {
            "needs_background": "light"
          }
        },
        {
          "output_type": "display_data",
          "data": {
            "image/png": "[encoded data removed]",
            "text/plain": [
              "<Figure size 288x2304 with 2 Axes>"
            ]
          },
          "metadata": {
            "needs_background": "light"
          }
        },
        {
          "output_type": "display_data",
          "data": {
            "image/png": "[encoded data removed]",
            "text/plain": [
              "<Figure size 288x2304 with 2 Axes>"
            ]
          },
          "metadata": {
            "needs_background": "light"
          }
        },
        {
          "output_type": "display_data",
          "data": {
            "image/png": "[encoded data removed]",
            "text/plain": [
              "<Figure size 432x2304 with 3 Axes>"
            ]
          },
          "metadata": {
            "needs_background": "light"
          }
        },
        {
          "output_type": "stream",
          "name": "stderr",
          "text": [
            "4it [00:11,  2.87s/it]\n"
          ]
        }
      ],
      "source": [
        "for task, prediction, solved in tqdm(zip(data.values(), data_predictions.values(), data_solved)):\n",
        "    if not solved:\n",
        "        for i in range(len(task['train'])):\n",
        "            plot_sample(task['train'][i])\n",
        "            \n",
        "        for i in range(len(task['test'])):\n",
        "            plot_sample(task['test'][i], prediction[i])"
      ]
    },
    {
      "cell_type": "markdown",
      "metadata": {
        "id": "oLQDE34Vlz2N"
      },
      "source": [
        "That's all for now, thanks for reading!"
      ]
    },
    {
      "cell_type": "markdown",
      "metadata": {
        "id": "bvKgXEqtlz2N"
      },
      "source": [
        "# Using the correct prediction format"
      ]
    },
    {
      "cell_type": "code",
      "execution_count": null,
      "metadata": {
        "id": "mUSqn5Sdlz2N"
      },
      "outputs": [],
      "source": [
        "import pandas as pd\n",
        "submission = pd.read_csv(data_path / 'sample_submission.csv', index_col='output_id')\n",
        "display(submission.head())"
      ]
    },
    {
      "cell_type": "code",
      "execution_count": null,
      "metadata": {
        "id": "nVT7tSs0lz2N"
      },
      "outputs": [],
      "source": [
        "def flattener(pred):\n",
        "    str_pred = str([list(row) for row in pred])\n",
        "    str_pred = str_pred.replace(', ', '')\n",
        "    str_pred = str_pred.replace('[[', '|')\n",
        "    str_pred = str_pred.replace('][', '|')\n",
        "    str_pred = str_pred.replace(']]', '|')\n",
        "    return str_pred"
      ]
    },
    {
      "cell_type": "code",
      "execution_count": null,
      "metadata": {
        "id": "FE0vPzH4lz2O"
      },
      "outputs": [],
      "source": [
        "for output_id in submission.index:\n",
        "    task_id = output_id.split('_')[0]\n",
        "    pair_id = int(output_id.split('_')[1])\n",
        "    f = str(test_path / str(task_id + '.json'))\n",
        "    with open(f, 'r') as read_file:\n",
        "        task = json.load(read_file)\n",
        "    # skipping over the training examples, since this will be naive predictions\n",
        "    # we will use the test input grid as the base, and make some modifications\n",
        "    #data = task['test'][pair_id]['input'] # test pair input\n",
        "    data = test_predictions[task_id][pair_id]\n",
        "    # for the first guess, predict that output is unchanged\n",
        "    pred_1 = flattener(data)\n",
        "    # for the second guess, change all 0s to 5s\n",
        "    data = [[5 if i==0 else i for i in j] for j in data]\n",
        "    pred_2 = flattener(data)\n",
        "    # for the last gues, change everything to 0\n",
        "    data = [[0 for i in j] for j in data]\n",
        "    pred_3 = flattener(data)\n",
        "    # concatenate and add to the submission output\n",
        "    pred = pred_1 + ' ' + pred_2 + ' ' + pred_3 + ' ' \n",
        "    submission.loc[output_id, 'output'] = pred\n",
        "\n",
        "submission.to_csv('submission.csv')\n",
        "submission.head()"
      ]
    },
    {
      "cell_type": "code",
      "execution_count": null,
      "metadata": {
        "id": "zngT7oNtlz2O"
      },
      "outputs": [],
      "source": [
        ""
      ]
    }
  ],
  "metadata": {
    "kernelspec": {
      "display_name": "Python 3",
      "language": "python",
      "name": "python3"
    },
    "language_info": {
      "codemirror_mode": {
        "name": "ipython",
        "version": 3
      },
      "file_extension": ".py",
      "mimetype": "text/x-python",
      "name": "python",
      "nbconvert_exporter": "python",
      "pygments_lexer": "ipython3",
      "version": "3.6.6"
    },
    "colab": {
      "name": "Copy of ca-cnn-with-adaptive-computation-time.ipynb",
      "provenance": [],
      "collapsed_sections": [
        "bTpTHA7Jlz2A",
        "CtJ3-dTQlz2C",
        "6CIAFKWhlz2E",
        "5bzVmDTVlz2K",
        "bvKgXEqtlz2N"
      ]
    },
    "accelerator": "GPU"
  },
  "nbformat": 4,
  "nbformat_minor": 0
}